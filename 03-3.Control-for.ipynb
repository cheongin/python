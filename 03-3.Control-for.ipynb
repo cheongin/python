{
 "cells": [
  {
   "cell_type": "code",
   "execution_count": null,
   "metadata": {},
   "outputs": [],
   "source": [
    "count = 0               # 카운트 초기 값 선언\n",
    "while count < 8:        # 반복 조건 설정 (count == 8)\n",
    "    count = count + 1   # 카운트 값에서 1씩 증가\n",
    "    print(\"지금은 %d 교시 입니다.\" % count)"
   ]
  },
  {
   "cell_type": "code",
   "execution_count": null,
   "metadata": {},
   "outputs": [],
   "source": [
    "count = 0                   # 카운트 초기 값 선언\n",
    "while count < 8:            # 반복 조건 설정 (count == 8)\n",
    "    count = count + 1       # 카운트 값에서 1씩 증가\n",
    "    print(\"지금은 %d 교시 입니다.\" % count)\n",
    "    if count == 8:          # count 값이 8에 도달 했을 때\n",
    "        print(\"수업 끝!\")    # 출력할 내용 선언"
   ]
  },
  {
   "cell_type": "code",
   "execution_count": null,
   "metadata": {},
   "outputs": [],
   "source": [
    "prompt = '''\n",
    "1. 한식\n",
    "2. 중식\n",
    "3. 일식\n",
    "4. 양식\n",
    "5. 아무거나\n",
    "Enter number : \n",
    "'''\n",
    "number = 0                  # 입력 받을 초기 값 선언\n",
    "while number != 5:          # 값이 5가 아니면 무조건 prompt 변수의 값을 출력(False 동작)\n",
    "    print(prompt)           # prompt 변수 값을 화면에 출력\n",
    "    number = int(input())   # 입력 받기"
   ]
  },
  {
   "cell_type": "code",
   "execution_count": null,
   "metadata": {},
   "outputs": [],
   "source": [
    "prompt = '''\n",
    "1. 한식\n",
    "2. 중식\n",
    "3. 일식\n",
    "4. 양식\n",
    "5. 아무거나\n",
    "Enter number : \n",
    "'''\n",
    "number = 0                  # 입력 받을 초기 값 선언\n",
    "while number != 5:          # 값이 5가 아니면 무조건 prompt 변수의 값을 출력(False 동작)\n",
    "    print(prompt)           # prompt 변수 값을 화면에 출력\n",
    "    number = int(input())   # 입력 받기\n",
    "    if number == 1:\n",
    "        print(\"한식입니다.\")"
   ]
  },
  {
   "cell_type": "code",
   "execution_count": null,
   "metadata": {},
   "outputs": [],
   "source": [
    "coffee = 3\n",
    "while True:\n",
    "    money = int(input(\"돈을 넣어 주세요: \"))\n",
    "    if money == 300:\n",
    "        print(\"커피를 줍니다.\")\n",
    "        coffee = coffee -1\n",
    "    elif money > 300:\n",
    "        print(\"거스름돈 %d를 주고 커피를 줍니다.\" % (money -300))\n",
    "        coffee = coffee -1\n",
    "    else:\n",
    "        print(\"돈을 다시 돌려주고 커피를 주지 않습니다.\")\n",
    "        print(\"남은 커피의 양은 %d개 입니다.\" % coffee)\n",
    "    if coffee == 0:\n",
    "        print(\"커피가 다 떨어졌습니다. 판매를 중지 합니다.\")\n",
    "        break"
   ]
  },
  {
   "cell_type": "code",
   "execution_count": null,
   "metadata": {},
   "outputs": [],
   "source": [
    "while True:\n",
    "    print(\"무한 반복 중입니다. 여기서 이러시면 안 됩니다\")"
   ]
  }
 ],
 "metadata": {
  "kernelspec": {
   "display_name": "Python 3",
   "language": "python",
   "name": "python3"
  },
  "language_info": {
   "codemirror_mode": {
    "name": "ipython",
    "version": 3
   },
   "file_extension": ".py",
   "mimetype": "text/x-python",
   "name": "python",
   "nbconvert_exporter": "python",
   "pygments_lexer": "ipython3",
   "version": "3.12.1"
  }
 },
 "nbformat": 4,
 "nbformat_minor": 2
}
