{
 "cells": [
  {
   "cell_type": "code",
   "execution_count": 2,
   "metadata": {},
   "outputs": [
    {
     "name": "stdout",
     "output_type": "stream",
     "text": [
      "30\n",
      "50\n",
      "75\n",
      "95\n",
      "80\n"
     ]
    }
   ],
   "source": [
    "l = [30, 50, 75, 59, 95, 80]    # 리스트에 6개의 값을 대입\n",
    "for i in l:                     # i 변수에 리스트(l)의 값이 대입 되면서 반복\n",
    "    print(i)                    # i 변수의 값(l의 순서대로) 출력"
   ]
  },
  {
   "cell_type": "code",
   "execution_count": 3,
   "metadata": {},
   "outputs": [
    {
     "name": "stdout",
     "output_type": "stream",
     "text": [
      "80\n",
      "134\n",
      "175\n"
     ]
    }
   ],
   "source": [
    "l = [(30, 50), (75, 59), (95, 80)]  # 리스트에 6개의 값 3개의 그룹으로 나눠서 대입\n",
    "for (i, j) in l:                    # i, j 변수에 리스트(l)의 값이 대입 되면서 반복 (리스트의 소괄호를 잘 볼 것)\n",
    "    print(i + j)                    # i + j 변수의 값 출력"
   ]
  },
  {
   "cell_type": "code",
   "execution_count": 4,
   "metadata": {},
   "outputs": [
    {
     "name": "stdout",
     "output_type": "stream",
     "text": [
      "1번 학생은 불합격입니다.\n",
      "2번 학생은 불합격입니다.\n",
      "3번 학생은 합격입니다.\n",
      "4번 학생은 불합격입니다.\n",
      "5번 학생은 합격입니다.\n",
      "6번 학생은 합격입니다.\n"
     ]
    }
   ],
   "source": [
    "marks = [30, 50, 75, 59, 95, 80]   # 학생들의 시험 점수 리스트\n",
    "\n",
    "number = 0   # 학생에게 붙여 줄 번호\n",
    "for mark in marks:   # 30, 50, 75, 59, 95, 80을 순서대로 mark에 대입\n",
    "    number = number +1 \n",
    "    if mark >= 60: \n",
    "        print(\"%d번 학생은 합격입니다.\" % number)\n",
    "    else: \n",
    "        print(\"%d번 학생은 불합격입니다.\" % number)"
   ]
  },
  {
   "cell_type": "code",
   "execution_count": 13,
   "metadata": {},
   "outputs": [
    {
     "name": "stdout",
     "output_type": "stream",
     "text": [
      "3번 학생 축하합니다. 합격입니다. \n",
      "5번 학생 축하합니다. 합격입니다. \n",
      "6번 학생 축하합니다. 합격입니다. \n"
     ]
    }
   ],
   "source": [
    "marks = [30, 50, 75, 59, 95, 80]   # 학생들의 시험 점수 리스트\n",
    "number = 0                         # 학생에게 붙여 줄 번호\n",
    "for mark in marks:                 # 30, 50, 75, 59, 95, 80을 순서대로 mark에 대입\n",
    "    number = number +1             # number 변수 누적\n",
    "    if mark < 60:                  # mark 변수의 값이 60 미만일 때\n",
    "        continue                   # mark 변수의 값이 60 미만이면 초기로 돌아감\n",
    "    print(\"%d번 학생 축하합니다. 합격입니다. \" % number)"
   ]
  },
  {
   "cell_type": "code",
   "execution_count": 7,
   "metadata": {},
   "outputs": [
    {
     "name": "stdout",
     "output_type": "stream",
     "text": [
      "55\n"
     ]
    }
   ],
   "source": [
    "a = 0\n",
    "for i in range(1, 11):   # 1 ~ 10\n",
    "    a = a + i            # i 변수의 값을 a에 누적\n",
    "print(a)                 # 값 = 55"
   ]
  },
  {
   "cell_type": "code",
   "execution_count": 17,
   "metadata": {},
   "outputs": [
    {
     "name": "stdout",
     "output_type": "stream",
     "text": [
      "2번 학생 축하합니다. 합격입니다. \n",
      "4번 학생 축하합니다. 합격입니다. \n",
      "5번 학생 축하합니다. 합격입니다. \n"
     ]
    }
   ],
   "source": [
    "marks = [30, 50, 75, 59, 95, 80]   # 학생들의 시험 점수 리스트\n",
    "for number in range(len(marks)):   # marks 변수의 길이(len)을 산정하여 30, 50, 75, 59, 95, 80 순서로 대입\n",
    "    if marks[number] < 60:         # marks 변수의 값이 60 미만일 때\n",
    "        continue                   # marks 변수의 값이 60 미만이면 초기로 돌아감\n",
    "    print(\"%d번 학생 축하합니다. 합격입니다. \" % number)"
   ]
  },
  {
   "cell_type": "code",
   "execution_count": 19,
   "metadata": {},
   "outputs": [
    {
     "name": "stdout",
     "output_type": "stream",
     "text": [
      "2 4 6 8 10 12 14 16 18  \n",
      "3 6 9 12 15 18 21 24 27  \n",
      "4 8 12 16 20 24 28 32 36  \n",
      "5 10 15 20 25 30 35 40 45  \n",
      "6 12 18 24 30 36 42 48 54  \n",
      "7 14 21 28 35 42 49 56 63  \n",
      "8 16 24 32 40 48 56 64 72  \n",
      "9 18 27 36 45 54 63 72 81  \n"
     ]
    }
   ],
   "source": [
    "for i in range(2, 10):          # 2 ~ 9 까지 숫자 대입(단)\n",
    "    for j in range(1, 10):      # 1 ~ 9 까지 숫자 대입(단)\n",
    "        print(i*j, end=\" \")     # i와 j를 곱하여 구구단을 표시하고 다음 줄로 넘기지 않음(end 파라미터)\n",
    "    print(' ')                  # i와 j의 값 출력을 위함"
   ]
  }
 ],
 "metadata": {
  "kernelspec": {
   "display_name": "Python 3",
   "language": "python",
   "name": "python3"
  },
  "language_info": {
   "codemirror_mode": {
    "name": "ipython",
    "version": 3
   },
   "file_extension": ".py",
   "mimetype": "text/x-python",
   "name": "python",
   "nbconvert_exporter": "python",
   "pygments_lexer": "ipython3",
   "version": "3.12.1"
  }
 },
 "nbformat": 4,
 "nbformat_minor": 2
}
