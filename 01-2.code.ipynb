{
 "cells": [
  {
   "cell_type": "code",
   "execution_count": 1,
   "metadata": {},
   "outputs": [
    {
     "name": "stdout",
     "output_type": "stream",
     "text": [
      "['False', 'None', 'True', 'and', 'as', 'assert', 'async', 'await', 'break', 'class', 'continue', 'def', 'del', 'elif', 'else', 'except', 'finally', 'for', 'from', 'global', 'if', 'import', 'in', 'is', 'lambda', 'nonlocal', 'not', 'or', 'pass', 'raise', 'return', 'try', 'while', 'with', 'yield']\n"
     ]
    }
   ],
   "source": [
    "# 의사 명령 코드 (Pseudo Instruction Code)\n",
    "import keyword # keyword 라이브러리 호출\n",
    "print(keyword.kwlist) # keyword 목록 출력"
   ]
  },
  {
   "cell_type": "code",
   "execution_count": 23,
   "metadata": {},
   "outputs": [
    {
     "name": "stdout",
     "output_type": "stream",
     "text": [
      "<class 'int'>\n",
      "<class 'str'>\n",
      "<class 'list'>\n",
      "\n",
      "b의 len = 5 / c의 len = 5\n",
      "\n",
      "b의 min = 1 / c의 min = 1\n",
      "b의 max = 5 / c의 max = 5\n"
     ]
    }
   ],
   "source": [
    "# 내장 함수 (Internal Function)\n",
    "a = 12345\n",
    "b = '12345'\n",
    "c = [1,2,3,4,5,6]\n",
    "\n",
    "# type()\n",
    "print(type(a)) # int\n",
    "print(type(b)) # str\n",
    "print(type(c)) # list\n",
    "print()\n",
    "# len() # int는 출력하지 못함\n",
    "print(\"b의 len =\", len(b), \"/ \" \"c의 len =\",len(c))\n",
    "print()\n",
    "# min(), max() # int는 출력하지 못함\n",
    "print(\"b의 min =\", min(b), \"/ \" \"c의 min =\",min(c))\n",
    "print(\"b의 max =\", max(b), \"/ \" \"c의 max =\",max(c))"
   ]
  }
 ],
 "metadata": {
  "kernelspec": {
   "display_name": "Python 3",
   "language": "python",
   "name": "python3"
  },
  "language_info": {
   "codemirror_mode": {
    "name": "ipython",
    "version": 3
   },
   "file_extension": ".py",
   "mimetype": "text/x-python",
   "name": "python",
   "nbconvert_exporter": "python",
   "pygments_lexer": "ipython3",
   "version": "3.12.1"
  }
 },
 "nbformat": 4,
 "nbformat_minor": 2
}
