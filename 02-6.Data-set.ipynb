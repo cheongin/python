{
 "cells": [
  {
   "cell_type": "code",
   "execution_count": 10,
   "metadata": {},
   "outputs": [
    {
     "name": "stdout",
     "output_type": "stream",
     "text": [
      "{1, 2, 3, 4, 5, 6} <class 'set'>\n"
     ]
    }
   ],
   "source": [
    "#숫자\n",
    "s1 = set([1, 2, 3, 4, 5, 6])\n",
    "s2 = set([4, 5, 6, 7, 8, 9])\n",
    "print(s1, type(s1)) # 순서대로 출력"
   ]
  },
  {
   "cell_type": "code",
   "execution_count": 11,
   "metadata": {},
   "outputs": [
    {
     "name": "stdout",
     "output_type": "stream",
     "text": [
      "{'자', '입', '열', '.', ' ', '니', '다', '문'} <class 'set'>\n"
     ]
    }
   ],
   "source": [
    "#문자열\n",
    "s3 = set(\"문자열 입니다.\")\n",
    "print(s3, type(s3)) # 값이 랜덤으로 출력\n",
    "s1 = set([1, 2, 3, 4, 5, 6])\n",
    "s2 = set([4, 5, 6, 7, 8, 9])"
   ]
  },
  {
   "cell_type": "code",
   "execution_count": 12,
   "metadata": {},
   "outputs": [
    {
     "name": "stdout",
     "output_type": "stream",
     "text": [
      "{4, 5, 6}\n",
      "{1, 2, 3, 4, 5, 6, 7, 8, 9}\n",
      "{1, 2, 3, 4, 5, 6, 7, 8, 9}\n",
      "{1, 2, 3}\n",
      "{1, 2, 3}\n"
     ]
    }
   ],
   "source": [
    "#교집합\n",
    "print(s1 & s2)\n",
    "#합집합\n",
    "print(s1 | s2)\n",
    "print(s1.union(s2))\n",
    "#차집합\n",
    "print(s1 - s2)\n",
    "print(s1.difference(s2))"
   ]
  },
  {
   "cell_type": "code",
   "execution_count": 13,
   "metadata": {},
   "outputs": [
    {
     "name": "stdout",
     "output_type": "stream",
     "text": [
      "{1, 2, 3, 4}\n",
      "{1, 2, 3, 4, 5, 6}\n",
      "{1, 3}\n"
     ]
    }
   ],
   "source": [
    "# 1개 추가\n",
    "s1 = set([1, 2, 3]) # List의 초기 값은, 1, 2, 3\n",
    "s1.add(4)   # List의 초기 값에 4 추가\n",
    "print(s1)   # 1, 2, 3, 4\n",
    "\n",
    "# 여러개 추가\n",
    "s2 = set([1, 2, 3])\n",
    "s2.update([4, 5, 6])\n",
    "print(s2)\n",
    "\n",
    "# 삭제\n",
    "s3 = set([1, 2, 3])\n",
    "s3.remove(2)\n",
    "print(s3)"
   ]
  }
 ],
 "metadata": {
  "kernelspec": {
   "display_name": "Python 3",
   "language": "python",
   "name": "python3"
  },
  "language_info": {
   "codemirror_mode": {
    "name": "ipython",
    "version": 3
   },
   "file_extension": ".py",
   "mimetype": "text/x-python",
   "name": "python",
   "nbconvert_exporter": "python",
   "pygments_lexer": "ipython3",
   "version": "3.12.1"
  }
 },
 "nbformat": 4,
 "nbformat_minor": 2
}
