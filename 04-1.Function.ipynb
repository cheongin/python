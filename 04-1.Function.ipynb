{
 "cells": [
  {
   "cell_type": "code",
   "execution_count": null,
   "metadata": {},
   "outputs": [],
   "source": [
    "# 함수 구조\n",
    "def add(a, b):\n",
    "    return a + b\n",
    "\n",
    "# 사용법\n",
    "a = 3; b = 4; c = add(a, b)\n",
    "print(c)"
   ]
  },
  {
   "cell_type": "code",
   "execution_count": null,
   "metadata": {},
   "outputs": [],
   "source": [
    "def add(a, b):      # 여기서 a, b는 매개변수(Parameter)\n",
    "    return a + b\n",
    "print(add(1, 2))    # 여기서 1, 2는 인수(Arguments)"
   ]
  },
  {
   "cell_type": "code",
   "execution_count": null,
   "metadata": {},
   "outputs": [],
   "source": [
    "# 리턴_값을_받을_변수 = 함수_이름(입력_인수1, 입력_인수2, ...)\n",
    "def add(a, b): \n",
    "    result = a + b \n",
    "    return result\n",
    "\n",
    "a = add(1, 2)\n",
    "print(a)"
   ]
  },
  {
   "cell_type": "code",
   "execution_count": null,
   "metadata": {},
   "outputs": [],
   "source": [
    "# 리턴값을_받을_변수 = 함수_이름()\n",
    "def question():\n",
    "    return 'answer'\n",
    "\n",
    "prt = question()\n",
    "print(prt)"
   ]
  },
  {
   "cell_type": "code",
   "execution_count": null,
   "metadata": {},
   "outputs": [],
   "source": [
    "# 함수_이름(입력_인수1, 입력_인수2, ...)\n",
    "def add(a, b): \n",
    "    print(\"%d, %d의 합은 %d 입니다.\" % (a, b, a + b))\n",
    "add(1, 2)"
   ]
  },
  {
   "cell_type": "code",
   "execution_count": null,
   "metadata": {},
   "outputs": [],
   "source": [
    "# 함수_이름\n",
    "def add(): \n",
    "    print(\"전 값이 없어요.\")\n",
    "add()"
   ]
  },
  {
   "cell_type": "code",
   "execution_count": null,
   "metadata": {},
   "outputs": [],
   "source": [
    "# 매개변수 지정\n",
    "def inp(a, b):      # 2개의 숫자를 입력 받음\n",
    "    return a - b    # 입력 받은 2개의 숫자를 뺄셈\n",
    "\n",
    "out = inp(a = 10, b = 5)    # 2개의 숫자 입력\n",
    "print(out)                  # 출력"
   ]
  },
  {
   "cell_type": "code",
   "execution_count": null,
   "metadata": {},
   "outputs": [],
   "source": [
    "# 매개변수 값이 다수\n",
    "def many_add(*args):    # 함수명 : many_add, *agrs(매개변수가 들어갈 args 변수를 튜플로 변환)\n",
    "    result = 0          # 초기값 선언\n",
    "    for i in args:\n",
    "        result = result + i # *args에 입력된 모든 값을 더함\n",
    "    return result\n",
    "\n",
    "result = many_add(1,2,3,4,5)\n",
    "print(result)"
   ]
  },
  {
   "cell_type": "code",
   "execution_count": null,
   "metadata": {},
   "outputs": [],
   "source": [
    "# 매개변수가 n개\n",
    "def mul_many(a, *b):\n",
    "    if a == \"mul\":\n",
    "        result = 0\n",
    "        for i in b:\n",
    "            result = result + i\n",
    "    elif a == \"many\":\n",
    "        result = 1\n",
    "        for i in b:\n",
    "            result = result * i\n",
    "    return result\n",
    "\n",
    "result = mul_many('mul', 1,2,3,4,5)\n",
    "print(result)\n",
    "\n",
    "result = mul_many('many', 1,2, 3,4,5)\n",
    "print(result)"
   ]
  },
  {
   "cell_type": "code",
   "execution_count": null,
   "metadata": {},
   "outputs": [],
   "source": [
    "# 키워드 매개변수\n",
    "def keyword_kwargs(**kwargs):\n",
    "    print(kwargs)\n",
    "\n",
    "keyword_kwargs(a = 10)\n",
    "keyword_kwargs(name = 'foo', age = 30)"
   ]
  },
  {
   "cell_type": "code",
   "execution_count": null,
   "metadata": {},
   "outputs": [],
   "source": [
    "# 함수의 리턴 = 1개\n",
    "def mul_two(a, b):\n",
    "    return a + b, a * b\n",
    "\n",
    "result = mul_two(10, 20)\n",
    "print(result)   # tuple = (30, 200)"
   ]
  },
  {
   "cell_type": "code",
   "execution_count": null,
   "metadata": {},
   "outputs": [],
   "source": [
    "# 함수의 리턴 나누기\n",
    "def mul_two(a, b):\n",
    "    return a + b, a * b\n",
    "\n",
    "result1, result2 = mul_two(10, 20)\n",
    "print(result1, result2)"
   ]
  },
  {
   "cell_type": "code",
   "execution_count": null,
   "metadata": {},
   "outputs": [],
   "source": [
    "# 함수의 리턴문을 2개로 만든다면?\n",
    "def mul_two(a, b):\n",
    "    return a + b\n",
    "    return a * b\n",
    "\n",
    "result = mul_two(10, 20)\n",
    "print(result)   # result = a + b"
   ]
  },
  {
   "cell_type": "code",
   "execution_count": null,
   "metadata": {},
   "outputs": [],
   "source": [
    "# 초기값 선언(초기 값이 있는 것은 없는 것 뒤에 선언)\n",
    "def class_name(name, number, code=True):\n",
    "    print(\"이름은 %s 입니다.\" % name)\n",
    "    print(\"입력하신 번호는 %d 입니다.\" % number)\n",
    "    if code:\n",
    "        print(\"입력하신 코드가 맞습니다.\")\n",
    "    else:\n",
    "        print(\"입력하신 코드가 맞지 않습니다.\")\n",
    "\n",
    "class_name(\"김상식\", 29)\n",
    "class_name(\"최정상\", 30, True)\n",
    "class_name(\"박상철\", 50, False) "
   ]
  },
  {
   "cell_type": "code",
   "execution_count": null,
   "metadata": {},
   "outputs": [],
   "source": [
    "# 함수의 동작 범위\n",
    "a = 1\n",
    "def test_var(a):    # 리턴 값이 없는 함수 선언\n",
    "    a = a + 1\n",
    "\n",
    "test_var(a)         # test_var 함수에 a 변수의 입력값 부여\n",
    "print(a)            # test_var와 a 변수 모두 같은 값(1) 출력"
   ]
  },
  {
   "cell_type": "code",
   "execution_count": 68,
   "metadata": {},
   "outputs": [
    {
     "name": "stdout",
     "output_type": "stream",
     "text": [
      "1\n"
     ]
    }
   ],
   "source": [
    "# 함수 오류 발생하기\n",
    "def test_var(a):    # 리턴 값이 없는 함수 선언\n",
    "    a = a + 1\n",
    "\n",
    "test_var(3)         # test_var 함수에 a 변수의 입력값 부여\n",
    "print(a)            # a 변수에 대한 선언이 없기 때문에 정상 값이 출력되지 않음"
   ]
  },
  {
   "cell_type": "code",
   "execution_count": 69,
   "metadata": {},
   "outputs": [
    {
     "name": "stdout",
     "output_type": "stream",
     "text": [
      "2\n"
     ]
    }
   ],
   "source": [
    "# return (함수 내의 매개변수와 밖에 있는 변수는 다름)\n",
    "a = 1               # 변수 선언\n",
    "def test_var(a):\n",
    "    a = a + 1\n",
    "    return a        # a 변수 값을 return\n",
    "\n",
    "a = test_var(a)     # a 변수(매개변수 아님) 선언(return 값 대입)\n",
    "print(a)            # 함수에서 매개변수로 처리한 a 변수의 return 값 출력"
   ]
  },
  {
   "cell_type": "code",
   "execution_count": null,
   "metadata": {},
   "outputs": [],
   "source": [
    "# global (권장하지 않음)\n",
    "a = 1               # 변수 선언\n",
    "def test_var():\n",
    "    global a        # 함수 외부에 있는 a 변수 호출\n",
    "    a = a + 1\n",
    "\n",
    "test_var()          # 함수의 return 값 받음\n",
    "print(a)            # 함수에서 매개변수로 처리한 a 변수의 return 값 출력"
   ]
  },
  {
   "cell_type": "code",
   "execution_count": 70,
   "metadata": {},
   "outputs": [
    {
     "name": "stdout",
     "output_type": "stream",
     "text": [
      "7\n",
      "7\n"
     ]
    }
   ],
   "source": [
    "# lambda\n",
    "add = lambda a, b: a + b\n",
    "result = add(3, 4)\n",
    "print(result)\n",
    "\n",
    "# def\n",
    "def add(a, b):\n",
    "    return a + b\n",
    "result = add(3, 4)\n",
    "print(result)"
   ]
  }
 ],
 "metadata": {
  "kernelspec": {
   "display_name": "Python 3",
   "language": "python",
   "name": "python3"
  },
  "language_info": {
   "codemirror_mode": {
    "name": "ipython",
    "version": 3
   },
   "file_extension": ".py",
   "mimetype": "text/x-python",
   "name": "python",
   "nbconvert_exporter": "python",
   "pygments_lexer": "ipython3",
   "version": "3.12.1"
  }
 },
 "nbformat": 4,
 "nbformat_minor": 2
}
