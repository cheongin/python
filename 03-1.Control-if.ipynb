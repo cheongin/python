{
 "cells": [
  {
   "cell_type": "code",
   "execution_count": 1,
   "metadata": {},
   "outputs": [
    {
     "name": "stdout",
     "output_type": "stream",
     "text": [
      "{'a': 1, 'b': 2, 'c': 3} {'e': 4, 'f': 5, 'g': 6} {1: 1, 2: 2, 3: 3} {'l': [0, 1, 2, 3, 4, 5, 6, 7, 8, 9], 't': (0, 1, 2, 3, 4, 5, 6, 7, 8, 9)}\n"
     ]
    }
   ],
   "source": [
    "d1 = {\n",
    "    'a' : 1,\n",
    "    'b' : 2,\n",
    "    'c' : 3\n",
    "}\n",
    "d2 = { \"e\" : 4, \"f\" : 5, \"g\" : 6 }\n",
    "d3 = { 1 : 1, 2 : 2, 3 : 3 }\n",
    "d4 = {\n",
    "    'l' : [0,1,2,3,4,5,6,7,8,9],\n",
    "    \"t\" : (0,1,2,3,4,5,6,7,8,9)\n",
    "}\n",
    "print(d1\n",
    "print(d2)\n",
    "print(d3\n",
    "print(d4)"
   ]
  },
  {
   "cell_type": "code",
   "execution_count": null,
   "metadata": {},
   "outputs": [],
   "source": []
  },
  {
   "cell_type": "code",
   "execution_count": 2,
   "metadata": {},
   "outputs": [
    {
     "name": "stdout",
     "output_type": "stream",
     "text": [
      "False True True\n"
     ]
    }
   ],
   "source": [
    "a = bool(0) # 0이기 때문에 False\n",
    "b = bool(1) # 양수기 때문에 True\n",
    "c = bool(-1) # 음수기 때문에 True\n",
    "print(a, b, c)"
   ]
  }
 ],
 "metadata": {
  "kernelspec": {
   "display_name": "Python 3",
   "language": "python",
   "name": "python3"
  },
  "language_info": {
   "codemirror_mode": {
    "name": "ipython",
    "version": 3
   },
   "file_extension": ".py",
   "mimetype": "text/x-python",
   "name": "python",
   "nbconvert_exporter": "python",
   "pygments_lexer": "ipython3",
   "version": "3.12.1"
  }
 },
 "nbformat": 4,
 "nbformat_minor": 2
}
