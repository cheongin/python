{
 "cells": [
  {
   "cell_type": "code",
   "execution_count": 7,
   "metadata": {},
   "outputs": [
    {
     "name": "stdout",
     "output_type": "stream",
     "text": [
      "True\n",
      "True\n",
      "False\n",
      "True\n",
      "False\n",
      "True\n"
     ]
    }
   ],
   "source": [
    "a = 1; b = 2\n",
    "print(a < b) # False : a가 b보다 클 때\n",
    "print(a < b) # True : b가 a보다 클 때\n",
    "print(a == b) # False : a와 b가 같을 때\n",
    "print(a != b) # True : a와 b가 다를 때\n",
    "print(a >= b) # False : a가 b보다 크거나 같을 때\n",
    "print(a <= b) # True : a가 b보다 작거나 같을 때"
   ]
  },
  {
   "cell_type": "code",
   "execution_count": 13,
   "metadata": {},
   "outputs": [
    {
     "name": "stdout",
     "output_type": "stream",
     "text": [
      "True\n",
      "False\n",
      "True\n",
      "True\n"
     ]
    }
   ],
   "source": [
    "a = 1; b = 2; c = False\n",
    "print(a > 0 and b < 3) # True : a가 0보다 크고 b가 3보다 작을 때\n",
    "print(a < 0 and b > 3) # False : a가 0보다 작고 b가 3보다 클 때\n",
    "print(a > 0 or b < 3) # True: a가 0보다 크거나 b가 3보다 작을 때\n",
    "print(not c)    # True : c가 False일 때 True"
   ]
  },
  {
   "cell_type": "code",
   "execution_count": 15,
   "metadata": {},
   "outputs": [
    {
     "name": "stdout",
     "output_type": "stream",
     "text": [
      "True\n",
      "True\n"
     ]
    }
   ],
   "source": [
    "l = [1, 2, 3]\n",
    "print(1 in l)       # 리스트에 1이 있으면 True\n",
    "print(4 not in l)   # 리스트에 4가 없으면 True"
   ]
  },
  {
   "cell_type": "code",
   "execution_count": 17,
   "metadata": {},
   "outputs": [
    {
     "name": "stdout",
     "output_type": "stream",
     "text": [
      "정답입니다.\n"
     ]
    }
   ],
   "source": [
    "a = 1 # a라는 변수에 1을 입력\n",
    "if (a == 1): # 질문 : a가 1이냐?\n",
    "    print(\"정답입니다.\") # 맞으면 \"정답입니다.\" 출력\n",
    "else: # a == 1이 아닌 경우\n",
    "    print(\"틀렸습니다.\") # 아니면 \"틀렸습니다.\" 출력"
   ]
  },
  {
   "cell_type": "code",
   "execution_count": null,
   "metadata": {},
   "outputs": [],
   "source": [
    "a = \"4교시\"             # a 변수 값 = '4교시'\n",
    "if (a == \"점심시간\"):   # a 변수 값 = \"점심시간\"?\n",
    "    print(True)         # 맞으면 True 출력\n",
    "else:\n",
    "    print(False)        # 아니면 False 출력"
   ]
  },
  {
   "cell_type": "code",
   "execution_count": 18,
   "metadata": {},
   "outputs": [
    {
     "name": "stdout",
     "output_type": "stream",
     "text": [
      "True\n"
     ]
    }
   ],
   "source": [
    "a = input('지금은 점심시간 인가요? : ')     # 입력 함수 사용\n",
    "if (a == \"예\"):                           # 입력 변수 값에 \"예\" 라고 답한 경우\n",
    "    print(True)                           # 맞으면 True\n",
    "else:\n",
    "    print(False)                          # 틀리면 False"
   ]
  },
  {
   "cell_type": "code",
   "execution_count": null,
   "metadata": {},
   "outputs": [],
   "source": [
    "# 실습4(다중 조건1)\n",
    "a = input('지금은 몇 교시 인가요? : ')\n",
    "if (a == \"1교시\"):\n",
    "    print(\"아직 멀었네\")\n",
    "elif (a == \"2교시\"):\n",
    "    print(\"시간 언제가냐\")\n",
    "elif (a == \"3교시\"):\n",
    "    print(\"언젠간 가겠지\")\n",
    "elif (a == \"4교시\"):\n",
    "    print(\"밥 먹을 준비나 해야지\")\n",
    "elif (a == \"5교시\"):\n",
    "    print(\"잠이나 자야지\")\n",
    "elif (a == \"6교시\"):\n",
    "    print(\"수업이 너무 지루해\")\n",
    "elif (a == \"7교시\"):\n",
    "    print(\"언젠가는 퇴근 하겠지\")\n",
    "elif (a == \"8교시\"):\n",
    "    print(\"퇴근하자\")\n",
    "else:\n",
    "    print(\"에라 모르겠다\")"
   ]
  },
  {
   "cell_type": "code",
   "execution_count": null,
   "metadata": {},
   "outputs": [],
   "source": [
    "# 실습5(다중 조건2) ---\n",
    "a = int(input('지금은 몇 교시 인가요? : '))\n",
    "if (a <= 4): # 입력 값이 4보다 같거나 작을 때\n",
    "    print(\"아직 멀었네\")\n",
    "elif (a <= 8): # 입력 값이 8보다 같거나 작을 때\n",
    "    print(\"잠이나 자야지\")\n",
    "else: # 그 외\n",
    "    print(\"집에 가자\")"
   ]
  },
  {
   "cell_type": "code",
   "execution_count": null,
   "metadata": {},
   "outputs": [],
   "source": [
    "# 실습6(중첩 조건문) ---\n",
    "a = int(input('지금은 몇 교시 인가요? : '))\n",
    "if (a <= 4):\n",
    "    print(\"지금은 오전시간\")\n",
    "elif (a >= 4):\n",
    "    if(a == 5):\n",
    "        print(\"5교시 입니다.\")\n",
    "    elif (a == 6):\n",
    "        print(\"6교시 입니다.\")\n",
    "    elif (a == 7):\n",
    "        print(\"7교시 입니다.\")\n",
    "    elif (a == 8):\n",
    "        print(\"8교시 입니다.\")\n",
    "    elif (a >= 8):\n",
    "        print(\"올바르지 않은 값을 입력 하셨습니다.\")\n",
    "else:\n",
    "    print(\"올바르지 않은 값입니다.\")\n"
   ]
  }
 ],
 "metadata": {
  "kernelspec": {
   "display_name": "Python 3",
   "language": "python",
   "name": "python3"
  },
  "language_info": {
   "codemirror_mode": {
    "name": "ipython",
    "version": 3
   },
   "file_extension": ".py",
   "mimetype": "text/x-python",
   "name": "python",
   "nbconvert_exporter": "python",
   "pygments_lexer": "ipython3",
   "version": "3.12.1"
  }
 },
 "nbformat": 4,
 "nbformat_minor": 2
}
