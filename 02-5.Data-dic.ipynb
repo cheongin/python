{
 "cells": [
  {
   "cell_type": "code",
   "execution_count": 4,
   "metadata": {},
   "outputs": [
    {
     "name": "stdout",
     "output_type": "stream",
     "text": [
      "{'a': 1, 'b': 2, 'c': 3}\n",
      "{'e': 4, 'f': 5, 'g': 6}\n",
      "{1: 1, 2: 2, 3: 3}\n",
      "{'l': [0, 1, 2, 3, 4, 5, 6, 7, 8, 9], 't': (0, 1, 2, 3, 4, 5, 6, 7, 8, 9)}\n"
     ]
    }
   ],
   "source": [
    "d1 = {\n",
    "    'a' : 1,\n",
    "    'b' : 2,\n",
    "    'c' : 3\n",
    "}\n",
    "d2 = { \"e\" : 4, \"f\" : 5, \"g\" : 6 }\n",
    "d3 = { 1 : 1, 2 : 2, 3 : 3 }\n",
    "d4 = {\n",
    "    'l' : [0,1,2,3,4,5,6,7,8,9],\n",
    "    \"t\" : (0,1,2,3,4,5,6,7,8,9)\n",
    "}\n",
    "print(d1)\n",
    "print(d2)\n",
    "print(d3)\n",
    "print(d4)"
   ]
  },
  {
   "cell_type": "code",
   "execution_count": 5,
   "metadata": {},
   "outputs": [
    {
     "name": "stdout",
     "output_type": "stream",
     "text": [
      "{'a': 1, 'b': 2, 'c': 3}\n",
      "{'a': 1, 'b': 20, 'c': 3}\n"
     ]
    }
   ],
   "source": [
    "# 값 추가 / 변경\n",
    "d5 = { 'a' : 1, 'b' : 2, 'c' : 3 }\n",
    "print(d5) # { 'a' : 1, 'b' : 2, 'c' : 3 }\n",
    "d5['b'] = 20 # b의 변수값인 2를 20으로 변경\n",
    "print(d5) # { 'a' : 1, 'b' : 20, 'c' : 3 }"
   ]
  },
  {
   "cell_type": "code",
   "execution_count": 6,
   "metadata": {},
   "outputs": [
    {
     "name": "stdout",
     "output_type": "stream",
     "text": [
      "dict_keys(['a', 'b', 'c'])\n",
      "dict_items([('a', 1), ('b', 2), ('c', 3)])\n",
      "dict_values([1, 2, 3])\n"
     ]
    }
   ],
   "source": [
    "# 함수 활용하기\n",
    "d6 = { 'a' : 1, 'b' : 2, 'c' : 3 }\n",
    "print(d6.keys()) # 키 목록을 출력\n",
    "print(d6.items()) # 키 목록, 값을 출력\n",
    "print(d6.values()) # 키 값을 출력"
   ]
  }
 ],
 "metadata": {
  "kernelspec": {
   "display_name": "Python 3",
   "language": "python",
   "name": "python3"
  },
  "language_info": {
   "codemirror_mode": {
    "name": "ipython",
    "version": 3
   },
   "file_extension": ".py",
   "mimetype": "text/x-python",
   "name": "python",
   "nbconvert_exporter": "python",
   "pygments_lexer": "ipython3",
   "version": "3.12.1"
  }
 },
 "nbformat": 4,
 "nbformat_minor": 2
}
