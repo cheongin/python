{
 "cells": [
  {
   "cell_type": "code",
   "execution_count": 2,
   "metadata": {},
   "outputs": [
    {
     "name": "stdout",
     "output_type": "stream",
     "text": [
      "True False False True True True False True\n"
     ]
    }
   ],
   "source": [
    "a1 = True and True # T와 T가 같으면 참(True)\n",
    "b1 = True and False # T와 F가 서로 다르면 거짓(False) \n",
    "c1 = False and True # F와 T가 서로 다르면 거짓(False)\n",
    "a2 = True or True # T 또는 T가 참이면 참(True)\n",
    "b2 = True or False # T나 F 중 하나라도 참이면 참(True)\n",
    "c2 = False or True # F나 T 중 하나라도 참이면 참(True)\n",
    "a3 = not True # 참(True)의 반대 = 거짓(False)\n",
    "b3 = not False # 거짓(False)의 반대 = 참(True)\n",
    "print(a1, b1, c1, a2, b2, c2, a3, b3)"
   ]
  },
  {
   "cell_type": "code",
   "execution_count": 3,
   "metadata": {},
   "outputs": [
    {
     "name": "stdout",
     "output_type": "stream",
     "text": [
      "False True True\n"
     ]
    }
   ],
   "source": [
    "a = bool(0) # 0이기 때문에 False\n",
    "b = bool(1) # 양수기 때문에 True\n",
    "c = bool(-1) # 음수기 때문에 True\n",
    "print(a, b, c)"
   ]
  }
 ],
 "metadata": {
  "kernelspec": {
   "display_name": "Python 3",
   "language": "python",
   "name": "python3"
  },
  "language_info": {
   "codemirror_mode": {
    "name": "ipython",
    "version": 3
   },
   "file_extension": ".py",
   "mimetype": "text/x-python",
   "name": "python",
   "nbconvert_exporter": "python",
   "pygments_lexer": "ipython3",
   "version": "3.12.1"
  }
 },
 "nbformat": 4,
 "nbformat_minor": 2
}
