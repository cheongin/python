{
 "cells": [
  {
   "cell_type": "code",
   "execution_count": null,
   "metadata": {},
   "outputs": [],
   "source": [
    "f = open(\"04-3.상대경로.txt\", 'w')\n",
    "f = open(\"E:/code/python/04-3.절대경로.txt\", 'w')\n",
    "f = open(\"E:\\\\code\\\\python\\\\04-3.절대경로-역슬래시1.txt\", 'w')\n",
    "f = open(r\"E:\\code\\python\\04-3.절대경로-역슬래시2.txt\", 'w')\n",
    "f.close"
   ]
  },
  {
   "cell_type": "code",
   "execution_count": null,
   "metadata": {},
   "outputs": [],
   "source": [
    "# 파일에 데이터 기록\n",
    "f = open(\"04-3.파일쓰기.txt\", 'w')\n",
    "for i in range(1, 11):\n",
    "    data = \"%d번째 줄입니다.\\n\" % i\n",
    "    f.write(data)\n",
    "f.close()"
   ]
  },
  {
   "cell_type": "code",
   "execution_count": null,
   "metadata": {},
   "outputs": [],
   "source": [
    "# read (모든 줄 읽기)\n",
    "f = open(\"04-3.파일쓰기.txt\", 'r')\n",
    "txt = f.read()\n",
    "print(txt)\n",
    "f.close()"
   ]
  },
  {
   "cell_type": "code",
   "execution_count": null,
   "metadata": {},
   "outputs": [],
   "source": [
    "# readline Function (한 줄 읽기)\n",
    "f = open(\"04-3.파일쓰기.txt\", 'r')\n",
    "txt = f.readline()\n",
    "print(txt)\n",
    "f.close()"
   ]
  },
  {
   "cell_type": "code",
   "execution_count": null,
   "metadata": {},
   "outputs": [],
   "source": [
    "# readline Function (모든 줄 읽기)\n",
    "f = open(\"04-3.파일쓰기.txt\", 'r')\n",
    "while True:\n",
    "    txt = f.readline()\n",
    "    if not txt: break\n",
    "    print(txt)\n",
    "f.close()"
   ]
  },
  {
   "cell_type": "code",
   "execution_count": null,
   "metadata": {},
   "outputs": [],
   "source": [
    "# readlines Function1 (모든 줄 읽기)\n",
    "f = open(\"04-3.파일쓰기.txt\", 'r')\n",
    "txt = f.readlines()\n",
    "for line in txt:\n",
    "    print(line)\n",
    "f.close()"
   ]
  },
  {
   "cell_type": "code",
   "execution_count": null,
   "metadata": {},
   "outputs": [],
   "source": [
    "# readlines Function2 (모든 줄 읽기)\n",
    "f = open(\"04-3.파일쓰기.txt\", 'r')\n",
    "txt = f.readlines()\n",
    "for line in txt:\n",
    "    line = line.strip() # 줄 바꿈(\\n) 문자 제거\n",
    "    print(line)\n",
    "f.close()"
   ]
  },
  {
   "cell_type": "code",
   "execution_count": null,
   "metadata": {},
   "outputs": [],
   "source": [
    "# 단순 for문\n",
    "f = open(\"04-3.파일쓰기.txt\", 'r')\n",
    "for line in f:\n",
    "    print(line)\n",
    "f.close()"
   ]
  },
  {
   "cell_type": "code",
   "execution_count": 12,
   "metadata": {},
   "outputs": [],
   "source": [
    "# 내용 추가1\n",
    "f = open(\"04-3.파일쓰기.txt\", 'a')\n",
    "for i in range(11, 20):\n",
    "    data = \"%d번째 줄입니다.\\n\" % i\n",
    "    f.write(data)\n",
    "f.close()"
   ]
  },
  {
   "cell_type": "code",
   "execution_count": 13,
   "metadata": {},
   "outputs": [],
   "source": [
    "# 내용 추가2\n",
    "with open(\"04-3.파일쓰기.txt\", 'a') as f:\n",
    "    f.write(\"테스트 중입니다.\")"
   ]
  }
 ],
 "metadata": {
  "kernelspec": {
   "display_name": "Python 3",
   "language": "python",
   "name": "python3"
  },
  "language_info": {
   "codemirror_mode": {
    "name": "ipython",
    "version": 3
   },
   "file_extension": ".py",
   "mimetype": "text/x-python",
   "name": "python",
   "nbconvert_exporter": "python",
   "pygments_lexer": "ipython3",
   "version": "3.12.1"
  }
 },
 "nbformat": 4,
 "nbformat_minor": 2
}
