{
 "cells": [
  {
   "cell_type": "code",
   "execution_count": 178,
   "metadata": {},
   "outputs": [
    {
     "name": "stdout",
     "output_type": "stream",
     "text": [
      "<class 'int'> 1\n",
      "<class 'int'> 0\n",
      "<class 'int'> -1\n"
     ]
    }
   ],
   "source": [
    "# 정수형\n",
    "a = 1\n",
    "b = 0\n",
    "c = -1\n",
    "print(type(a), a)\n",
    "print(type(b), b)\n",
    "print(type(c), c)"
   ]
  },
  {
   "cell_type": "code",
   "execution_count": 179,
   "metadata": {},
   "outputs": [
    {
     "name": "stdout",
     "output_type": "stream",
     "text": [
      "<class 'int'> 12\n",
      "<class 'int'> 8\n",
      "<class 'int'> 20\n",
      "<class 'float'> 5.0\n",
      "<class 'int'> 5\n",
      "<class 'int'> 0\n"
     ]
    }
   ],
   "source": [
    "# 사칙 연산\n",
    "a = 10\n",
    "b = 2\n",
    "print(type(a+b), a+b)   # 덧셈\n",
    "print(type(a-b), a-b)   # 뺄셈\n",
    "print(type(a*b), a*b)   # 곱셈\n",
    "print(type(a/b), a/b)   # 나눗셈\n",
    "print(type(a//b), a//b) # 나눗셈 이후 몫만 출력\n",
    "print(type(a%b), a%b)   # 나눗셈 이후 나머지 출력"
   ]
  },
  {
   "cell_type": "code",
   "execution_count": 201,
   "metadata": {},
   "outputs": [
    {
     "name": "stdout",
     "output_type": "stream",
     "text": [
      "<class 'int'> 125\n",
      "<class 'int'> 125\n"
     ]
    }
   ],
   "source": [
    "# 제곱근 연산\n",
    "print(type(5 ** 3), 5 ** 3)         # 별이 2개일 때 제곱\n",
    "print(type(pow(5,3)), pow(5,3))     # 함수로도 가능"
   ]
  },
  {
   "cell_type": "code",
   "execution_count": 181,
   "metadata": {},
   "outputs": [
    {
     "name": "stdout",
     "output_type": "stream",
     "text": [
      "<class 'int'> 14\n",
      "<class 'int'> 8\n",
      "<class 'int'> 10\n",
      "<class 'int'> 15\n"
     ]
    }
   ],
   "source": [
    "# 진법 변환\n",
    "bit = 0b1110    # 2진(0b) → 10진(str)\n",
    "oct = 0o010     # 8진(0o) → 10진(str)\n",
    "str = 10        # 10진(str)\n",
    "hex = 0xf       # 16진(0x) → 10진(str)\n",
    "# 출력\n",
    "print(type(bit), bit)\n",
    "print(type(oct), oct)\n",
    "print(type(str), str)\n",
    "print(type(hex), hex)"
   ]
  },
  {
   "cell_type": "code",
   "execution_count": 182,
   "metadata": {},
   "outputs": [
    {
     "name": "stdout",
     "output_type": "stream",
     "text": [
      "<class 'float'> 3.14\n",
      "<class 'float'> 3.14\n",
      "<class 'int'> 3\n"
     ]
    }
   ],
   "source": [
    "# 실수형(float)\n",
    "a = 3.14            # 기본 표현\n",
    "b = float('3.14')   # 문자열(strong) → 실수형(float)\n",
    "c = int(a)          # 실수형(float) → 정수형(int)\n",
    "print(type(a), a)\n",
    "print(type(b), b)\n",
    "print(type(c), c)"
   ]
  },
  {
   "cell_type": "code",
   "execution_count": 199,
   "metadata": {},
   "outputs": [
    {
     "name": "stdout",
     "output_type": "stream",
     "text": [
      "<class 'float'> 100000000000.0\n",
      "<class 'float'> 1e-09\n",
      "\n",
      "<class 'float'> math 함수 사용 시 :  1.0\n"
     ]
    }
   ],
   "source": [
    "# 지수 (log : E 또는 e로 표기)\n",
    "a = 10E10   # 10log10\n",
    "b = 10e-10  # 10log-10\n",
    "print(type(a), a)\n",
    "print(type(b), b)\n",
    "print()\n",
    "# math 함수 사용\n",
    "import math\n",
    "print(type(math.log10(10)), math.log10(10))"
   ]
  },
  {
   "cell_type": "code",
   "execution_count": 184,
   "metadata": {},
   "outputs": [
    {
     "name": "stdout",
     "output_type": "stream",
     "text": [
      "<class 'complex'> (10+2j)\n",
      "<class 'complex'> (5-4j)\n"
     ]
    }
   ],
   "source": [
    "# 복소수(complex)\n",
    "a = 10 + 2j         # 실수와 허수로 구성한 숫자\n",
    "print(type(a), a)\n",
    "b = 5 - 4j          # 실수부 + 허수부j\n",
    "print(type(b), b)"
   ]
  },
  {
   "cell_type": "code",
   "execution_count": 185,
   "metadata": {},
   "outputs": [
    {
     "name": "stdout",
     "output_type": "stream",
     "text": [
      "1\n",
      "0\n",
      "1\n",
      "0\n",
      "0\n"
     ]
    }
   ],
   "source": [
    "# 순서 논리회로 연산자 (int)\n",
    "x = 0\n",
    "y = 1\n",
    "a = x << y\n",
    "b = x >> y\n",
    "print(x | y)   # OR 연산자\n",
    "print(x & y)   # AND 연산자\n",
    "print(x ^ y)   # Exclusive OR(XOR, EOR) 연산자\n",
    "print(a) # 좌측 Shift\n",
    "print(b) # 우측 Shift"
   ]
  },
  {
   "cell_type": "code",
   "execution_count": 186,
   "metadata": {},
   "outputs": [
    {
     "name": "stdout",
     "output_type": "stream",
     "text": [
      "5+3 =  8\n",
      "5-3 =  2\n",
      "5*3 =  15\n",
      "5**3 =  125\n",
      "5/3 =  1.6666666666666667\n",
      "5%3 =  2\n"
     ]
    }
   ],
   "source": [
    "# 복합 대입 연산자 (+=)\n",
    "a = 5\n",
    "a += 3\n",
    "print(\"5+3 = \", a)\n",
    "\n",
    "# 복합 대입 연산자 (-=)\n",
    "a = 5\n",
    "a -= 3\n",
    "print(\"5-3 = \", a)\n",
    "\n",
    "# 복합 대입 연산자 (*=)\n",
    "a = 5\n",
    "a *= 3\n",
    "print(\"5*3 = \", a)\n",
    "\n",
    "# 복합 대입 연산자 (**=)\n",
    "a = 5\n",
    "a **= 3\n",
    "print(\"5**3 = \", a)\n",
    "\n",
    "# 복합 대입 연산자 (/= 몫 구하기)\n",
    "a = 5\n",
    "a /= 3\n",
    "print(\"5/3 = \", a)\n",
    "\n",
    "# 복합 대입 연산자 (%= 나머지 구하기)\n",
    "a = 5\n",
    "a %= 3\n",
    "print(\"5%3 = \", a)"
   ]
  }
 ],
 "metadata": {
  "kernelspec": {
   "display_name": "Python 3",
   "language": "python",
   "name": "python3"
  },
  "language_info": {
   "codemirror_mode": {
    "name": "ipython",
    "version": 3
   },
   "file_extension": ".py",
   "mimetype": "text/x-python",
   "name": "python",
   "nbconvert_exporter": "python",
   "pygments_lexer": "ipython3",
   "version": "3.12.1"
  }
 },
 "nbformat": 4,
 "nbformat_minor": 2
}
