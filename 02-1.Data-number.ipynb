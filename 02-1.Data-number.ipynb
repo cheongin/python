{
 "cells": [
  {
   "cell_type": "code",
   "execution_count": 18,
   "metadata": {},
   "outputs": [
    {
     "name": "stdout",
     "output_type": "stream",
     "text": [
      "<class 'int'> 1\n",
      "<class 'int'> 0\n",
      "<class 'int'> -1\n"
     ]
    }
   ],
   "source": [
    "# 정수형\n",
    "a = 1\n",
    "b = 0\n",
    "c = -1\n",
    "print(type(a), a)\n",
    "print(type(b), b)\n",
    "print(type(c), c)"
   ]
  },
  {
   "cell_type": "code",
   "execution_count": 22,
   "metadata": {},
   "outputs": [
    {
     "name": "stdout",
     "output_type": "stream",
     "text": [
      "<class 'float'> 1.0\n",
      "<class 'float'> 3.14\n",
      "\n",
      "<class 'float'> 1.0\n",
      "<class 'float'> 3e-08\n"
     ]
    }
   ],
   "source": [
    "# 실수형\n",
    "a = 1.0\n",
    "b = 3.14\n",
    "print(type(a), a)\n",
    "print(type(b), b)\n",
    "print()\n",
    "# 지수 (E 또는 e로 표기)\n",
    "c = 3E8   # 3 * 10^8\n",
    "d = 3e-8  # 3 * 10^-8\n",
    "print(type(c), a)\n",
    "print(type(d), d)"
   ]
  },
  {
   "cell_type": "code",
   "execution_count": 33,
   "metadata": {},
   "outputs": [
    {
     "name": "stdout",
     "output_type": "stream",
     "text": [
      "<class 'int'> 14\n",
      "<class 'int'> 8\n",
      "<class 'int'> 10\n",
      "<class 'int'> 15\n"
     ]
    }
   ],
   "source": [
    "# 진법 변환\n",
    "bit = 0b1110    # 2진(0b) → 10진(str)\n",
    "oct = 0o010     # 8진(0o) → 10진(str)\n",
    "str = 10        # 10진(str)\n",
    "hex = 0xf       # 16진(0x) → 10진(str)\n",
    "# 출력\n",
    "print(type(bit), bit)\n",
    "print(type(oct), oct)\n",
    "print(type(str), str)\n",
    "print(type(hex), hex)"
   ]
  },
  {
   "cell_type": "code",
   "execution_count": 21,
   "metadata": {},
   "outputs": [
    {
     "name": "stdout",
     "output_type": "stream",
     "text": [
      "5 1 6 1.5\n",
      "8\n",
      "2 1\n",
      "0 1\n"
     ]
    }
   ],
   "source": [
    "# 사칙연산\n",
    "a = 2\n",
    "b = 3\n",
    "print(a+b, b-a, a*b, b/a)\n",
    "\n",
    "# 제곱근\n",
    "print(a**b)\n",
    "\n",
    "# 나눗셈 (몫 리턴)\n",
    "print(a%b, b%a)     # (2 / 3), (3 / 2)\n",
    "\n",
    "# 나눗셈 (값 리턴)\n",
    "print(a//b, b//a)   # (2 / 3), (3 / 2)"
   ]
  },
  {
   "cell_type": "code",
   "execution_count": 41,
   "metadata": {},
   "outputs": [
    {
     "name": "stdout",
     "output_type": "stream",
     "text": [
      "<class 'str'> 12345\n",
      "<class 'int'> 12345\n",
      "<class 'int'>\n"
     ]
    }
   ],
   "source": [
    "# 문자열 → 숫자\n",
    "a = '12345'\n",
    "print(type(a), a)   # str (문자열)\n",
    "# a 변수 : 문자열(str) → b 변수 : 숫자(int)\n",
    "b = int(a)\n",
    "print(type(b), b)\n",
    "# Python2(long) → Python3(int)\n",
    "c = 123456789123456789123456789123456789\n",
    "print(type(i))"
   ]
  },
  {
   "cell_type": "code",
   "execution_count": null,
   "metadata": {},
   "outputs": [],
   "source": []
  },
  {
   "cell_type": "code",
   "execution_count": null,
   "metadata": {},
   "outputs": [],
   "source": []
  },
  {
   "cell_type": "code",
   "execution_count": null,
   "metadata": {},
   "outputs": [],
   "source": []
  },
  {
   "cell_type": "code",
   "execution_count": null,
   "metadata": {},
   "outputs": [],
   "source": []
  },
  {
   "cell_type": "code",
   "execution_count": null,
   "metadata": {},
   "outputs": [],
   "source": []
  },
  {
   "cell_type": "code",
   "execution_count": null,
   "metadata": {},
   "outputs": [],
   "source": []
  }
 ],
 "metadata": {
  "kernelspec": {
   "display_name": "Python 3",
   "language": "python",
   "name": "python3"
  },
  "language_info": {
   "codemirror_mode": {
    "name": "ipython",
    "version": 3
   },
   "file_extension": ".py",
   "mimetype": "text/x-python",
   "name": "python",
   "nbconvert_exporter": "python",
   "pygments_lexer": "ipython3",
   "version": "3.12.1"
  }
 },
 "nbformat": 4,
 "nbformat_minor": 2
}
