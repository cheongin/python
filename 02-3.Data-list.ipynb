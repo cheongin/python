{
 "cells": [
  {
   "cell_type": "code",
   "execution_count": 63,
   "metadata": {},
   "outputs": [
    {
     "name": "stdout",
     "output_type": "stream",
     "text": [
      "<class 'list'>\n",
      "0\n",
      "[0, 1, 2, 3]\n",
      "9\n"
     ]
    }
   ],
   "source": [
    "# 기본 실습\n",
    "l = [0,1,2,3,4,5,6,7,8,9]\n",
    "print(type(l)) # list형\n",
    "print(l[0]) # 0번째 값 출력\n",
    "print(l[0:4]) # 슬라이싱 : 0번부터 3번까지 출력(4개 출력)\n",
    "print(l[len(l)-1]) # 인덱스 길이 구할 때"
   ]
  },
  {
   "cell_type": "code",
   "execution_count": 64,
   "metadata": {},
   "outputs": [
    {
     "name": "stdout",
     "output_type": "stream",
     "text": [
      "[1, 2, 3, 4, 5, 6]\n",
      "[1, 2, 3, 1, 2, 3]\n"
     ]
    }
   ],
   "source": [
    "# 리스트 연산\n",
    "\n",
    "l1 = [1, 2, 3]\n",
    "l2 = [4, 5, 6]\n",
    "print(l1 + l2)  # 덧셈\n",
    "print(l1 * 2)   # 반복"
   ]
  },
  {
   "cell_type": "code",
   "execution_count": 92,
   "metadata": {},
   "outputs": [
    {
     "name": "stdout",
     "output_type": "stream",
     "text": [
      "10\n"
     ]
    }
   ],
   "source": [
    "# int + str (int 영역에는 str로 변환)\n",
    "l = [1, 2, 3]\n",
    "print(str(l[0]) + \"0\")"
   ]
  },
  {
   "cell_type": "code",
   "execution_count": 65,
   "metadata": {},
   "outputs": [
    {
     "name": "stdout",
     "output_type": "stream",
     "text": [
      "[10, 1, 2, 3, 4, 5, 6, 7, 8, 9]\n"
     ]
    }
   ],
   "source": [
    "# 값 바꾸기 → 인덱스에 초기 값이 있어야만 가능\n",
    "l = [0,1,2,3,4,5,6,7,8,9] # 초기 값\n",
    "l[0] = 10 # 0번 인덱스의 값을 10으로 변경\n",
    "print(l) # [10, 1, 2, 3, 4, 5, 6, 7, 8, 9]"
   ]
  },
  {
   "cell_type": "code",
   "execution_count": 66,
   "metadata": {},
   "outputs": [
    {
     "name": "stdout",
     "output_type": "stream",
     "text": [
      "['이것은 문자열', [1, 2, 3], '문자열', 3, 4, 5, 6, 7, 8, 9]\n"
     ]
    }
   ],
   "source": [
    "# 여러 자료형 표시\n",
    "l = [0,1,2,3,4,5,6,7,8,9] # 초기 값\n",
    "l[0] = \"이것은 문자열\" # 1번 인덱스의 값을 지정\n",
    "l[1] = [1,2,3] # 2번 인덱스의 값을 지정\n",
    "l[2] = \"문자열\" # 3번 인덱스의 값을 지정\n",
    "print(l) # [0, [1, 2, 3], '문자열', 3, 4, 5, 6, 7, 8, 9]"
   ]
  },
  {
   "cell_type": "code",
   "execution_count": 67,
   "metadata": {},
   "outputs": [
    {
     "name": "stdout",
     "output_type": "stream",
     "text": [
      "[0, 1, 2, 3, 4, 5, 6, 7, 8, 9]\n",
      "[0, 1, 2, 3, 4, 5, 6, 7, 8, 9, 10]\n",
      "[0, 1, 2, 3, 4, 5, 6, 7, 9, 10]\n"
     ]
    }
   ],
   "source": [
    "# append / remove\n",
    "l = [0,1,2,3,4,5,6,7,8,9] # 초기 값\n",
    "print(l) # 초기 값 출력\n",
    "l.append(10) # 마지막 인덱스 다음에 10 이라는 값을 추가\n",
    "print(l) # 결과 : [0, 1, 2, 3, 4, 5, 6, 7, 8, 9, 10]\n",
    "l.remove(8) # 8번 인덱스 삭제\n",
    "print(l) # 결과 : [0, 1, 2, 3, 4, 5, 6, 7, 9, 10]"
   ]
  },
  {
   "cell_type": "code",
   "execution_count": null,
   "metadata": {},
   "outputs": [],
   "source": []
  }
 ],
 "metadata": {
  "kernelspec": {
   "display_name": "Python 3",
   "language": "python",
   "name": "python3"
  },
  "language_info": {
   "codemirror_mode": {
    "name": "ipython",
    "version": 3
   },
   "file_extension": ".py",
   "mimetype": "text/x-python",
   "name": "python",
   "nbconvert_exporter": "python",
   "pygments_lexer": "ipython3",
   "version": "3.12.1"
  }
 },
 "nbformat": 4,
 "nbformat_minor": 2
}
