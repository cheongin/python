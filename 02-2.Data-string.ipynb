{
 "cells": [
  {
   "cell_type": "code",
   "execution_count": 40,
   "metadata": {},
   "outputs": [
    {
     "name": "stdout",
     "output_type": "stream",
     "text": [
      "이것은 큰 따옴표를 썼습니다.\n",
      "\n",
      "이것은 작은 따옴표를 썼습니다.\n",
      "\n",
      "이것은\n",
      "큰 따옴표 3개를\n",
      "썼습니다.\n",
      "\n",
      "이것은\n",
      "작은 따옴표 3개를 썼습니다.\n"
     ]
    }
   ],
   "source": [
    "# 기본 문자형\n",
    "\n",
    "print(\"이것은 큰 따옴표를 썼습니다.\")\n",
    "print()\n",
    "print('이것은 작은 따옴표를 썼습니다.')\n",
    "print()\n",
    "print(\"\"\"이것은\n",
    "큰 따옴표 3개를\n",
    "썼습니다.\"\"\")\n",
    "print()\n",
    "print('''이것은\n",
    "작은 따옴표 3개를 썼습니다.''')\n"
   ]
  },
  {
   "cell_type": "code",
   "execution_count": 27,
   "metadata": {},
   "outputs": [
    {
     "name": "stdout",
     "output_type": "stream",
     "text": [
      "이것은 Python's Programming 입니다.\n",
      "이것은 \"Pythons Programming\" 입니다.\n",
      "이것은 Python's Programming 입니다.\n",
      "이것은 \"Python's Programming\" 입니다.\n"
     ]
    }
   ],
   "source": [
    "# 큰 따옴표 내에 작은 따옴표\n",
    "print(\"이것은 Python's Programming 입니다.\")\n",
    "\n",
    "# 작은 따옴표 내에 큰 따옴표\n",
    "print('이것은 \"Pythons Programming\" 입니다.')\n",
    "\n",
    "# 역슬래시(\\)로 표현하는 방법\n",
    "print('이것은 Python\\'s Programming 입니다.')\n",
    "print(\"이것은 \\\"Python's Programming\\\" 입니다.\")"
   ]
  },
  {
   "cell_type": "code",
   "execution_count": 28,
   "metadata": {},
   "outputs": [
    {
     "name": "stdout",
     "output_type": "stream",
     "text": [
      "이것은 '엔터 키'를\n",
      " 적용 합니다.\n",
      "이것은 '탭 키'를\t 적용 합니다.\n",
      "이것은 '\\'을 표시 합니다.\n",
      "이것은 '홀따옴표(')'를 표시 합니다.\n",
      "이것은 '쌍따옴표(\")'를 표시 합니다.\n",
      "이것은 '캐리지 리턴'으로 커서를 맨 앞으로 보냅니다.\n",
      "이것은 '폼 피드'로 커서를 다음 줄로 보냅니다.\f\n",
      "이것은 '벨(beep sound)'로 PC에서 소리를 냅니다.\u0007\n",
      "이것은 '지우기(backspace)'입니다.\n",
      "이것은 'Null(\u0000)' 값 입니다.\n"
     ]
    }
   ],
   "source": [
    "# 문자 조합형(Escape)\n",
    "print(\"이것은 '엔터 키'를\\n 적용 합니다.\")\n",
    "print(\"이것은 '탭 키'를\\t 적용 합니다.\")\n",
    "print(\"이것은 '\\\\'을 표시 합니다.\")\n",
    "print(\"이것은 '홀따옴표(\\')'를 표시 합니다.\")\n",
    "print(\"이것은 '쌍따옴표(\\\")'를 표시 합니다.\")\n",
    "print(\"이것은 '캐리지 리턴'으로 커서를 맨 앞으로 보냅니다.\\r\")\n",
    "print(\"이것은 '폼 피드'로 커서를 다음 줄로 보냅니다.\\f\")\n",
    "print(\"이것은 '벨(beep sound)'로 PC에서 소리를 냅니다.\\a\")\n",
    "print(\"이것은 '지우기(backspace)' \\b입니다.\")\n",
    "print(\"이것은 'Null(\\000)' 값 입니다.\")"
   ]
  },
  {
   "cell_type": "code",
   "execution_count": 29,
   "metadata": {},
   "outputs": [
    {
     "name": "stdout",
     "output_type": "stream",
     "text": [
      "이것은 문자열 덧셈 입니다.\n",
      "\n",
      "반복한다. 반복한다. 반복한다. \n",
      "\n",
      "========================================\n",
      "사용자에게 출력할 글자 만들 때 편합니다.\n",
      "생각보다 자주 씁니다.\n",
      "========================================\n"
     ]
    }
   ],
   "source": [
    "# 문자열 덧셈\n",
    "a = \"이것은 \"\n",
    "b = \"문자열 덧셈 \"\n",
    "c = \"입니다.\"\n",
    "print(a+b+c)\n",
    "print()\n",
    "# 문자열 곱셈\n",
    "d = \"반복한다. \"\n",
    "print(d * 3)\n",
    "print()\n",
    "# 문자열 곱셈 응용(주석 만들기)\n",
    "print(\"=\" * 40)\n",
    "print(\"사용자에게 출력할 글자 만들 때 편합니다.\")\n",
    "print(\"생각보다 자주 씁니다.\")\n",
    "print(\"=\" * 40)"
   ]
  },
  {
   "cell_type": "code",
   "execution_count": 30,
   "metadata": {},
   "outputs": [
    {
     "name": "stdout",
     "output_type": "stream",
     "text": [
      "15\n"
     ]
    }
   ],
   "source": [
    "# 문자열 길이 (len)\n",
    "\n",
    "a=\"문자열 수업 언제 끝날까요?\"\n",
    "print(len(a))   # 길이 값은 공백(blank)도 포함"
   ]
  },
  {
   "cell_type": "code",
   "execution_count": 31,
   "metadata": {},
   "outputs": [
    {
     "name": "stdout",
     "output_type": "stream",
     "text": [
      "요\n",
      "열\n",
      "?\n",
      "\n",
      "문 자 열\n",
      "문자열\n"
     ]
    }
   ],
   "source": [
    "# 문자열 인덱싱\n",
    "a=\"문자열 수업 언제 끝날까요?\"\n",
    "print(a[0-2])           # 출력 = '요'\n",
    "print(a[0+2])           # 출력 = '열'\n",
    "print(a[-1])            # 출력 = '?'\n",
    "print()\n",
    "print(a[0], a[1], a[2]) # 출력 = '문 자 열'\n",
    "print(a[0]+a[1]+a[2])   # 출력 = '문자열'"
   ]
  },
  {
   "cell_type": "code",
   "execution_count": 32,
   "metadata": {},
   "outputs": [
    {
     "name": "stdout",
     "output_type": "stream",
     "text": [
      "문자\n",
      "문자열\n",
      "끝날까요?\n",
      "문자열 수업 언제 \n",
      "끝날\n"
     ]
    }
   ],
   "source": [
    "# 문자열 슬라이싱([시작번호_종료번호])\n",
    "a=\"문자열 수업 언제 끝날까요?\"\n",
    "print(a[0:2])   # 출력 = '문자' (끝 번호는 출력하지 않음)\n",
    "print(a[0:3])   # 출력 = '문자열'\n",
    "print(a[10:])   # 출력 = '끝날까요?' (시작 번호만 지정)\n",
    "print(a[:10])   # 출력 = '문자열 수업 언제' (끝을 기준으로 앞으로 출력)\n",
    "print(a[10:-3]) # 출력 = '끝날'"
   ]
  },
  {
   "cell_type": "code",
   "execution_count": 33,
   "metadata": {},
   "outputs": [
    {
     "name": "stdout",
     "output_type": "stream",
     "text": [
      "문자열 수업 :  2024 02 01\n"
     ]
    }
   ],
   "source": [
    "# 문자열 슬라이싱으로 분할하기\n",
    "a=\"문자열 수업 : 20240201\"\n",
    "char=a[0:8]\n",
    "year=a[8:13]\n",
    "month=a[13:15]\n",
    "day=a[15:18]\n",
    "print(char, year, month, day)"
   ]
  },
  {
   "cell_type": "code",
   "execution_count": 34,
   "metadata": {},
   "outputs": [
    {
     "name": "stdout",
     "output_type": "stream",
     "text": [
      "문자형 수업 :  2024 02 01\n"
     ]
    }
   ],
   "source": [
    "\n",
    "# 문자열 슬라이싱으로 출력 바꾸기\n",
    "\n",
    "a=\"문자열 수업 : 20240201\"\n",
    "char=a[:2] + '형' + a[3:8]\n",
    "year=a[8:13]\n",
    "month=a[13:15]\n",
    "day=a[15:18]\n",
    "print(char, year, month, day)\n"
   ]
  },
  {
   "cell_type": "code",
   "execution_count": 35,
   "metadata": {},
   "outputs": [
    {
     "name": "stdout",
     "output_type": "stream",
     "text": [
      "지금은 3 출력하고 있습니다.\n",
      "지금은 30 출력하고 있습니다.\n",
      "지금은 변수 출력하고 있습니다.\n",
      "지금은 변수 출력하고 있습니다.\n",
      "지금은 3 값과 30 값을 출력 하면서 30과 변수를 출력하고 있습니다.\n"
     ]
    }
   ],
   "source": [
    "# 숫자형\n",
    "a=30\n",
    "print(\"지금은 %d 출력하고 있습니다.\" % 3)\n",
    "print(\"지금은 %d 출력하고 있습니다.\" % a)\n",
    "\n",
    "# 문자형\n",
    "b='변수'\n",
    "print(\"지금은 %s 출력하고 있습니다.\" % '변수')\n",
    "print(\"지금은 %s 출력하고 있습니다.\" % b)\n",
    "\n",
    "# 숫자형 + 문자형\n",
    "print(\"지금은 %d 값과 %d 값을 출력 하면서 %s과 %s를 출력하고 있습니다.\" % (3, a, a, b))"
   ]
  },
  {
   "cell_type": "code",
   "execution_count": 36,
   "metadata": {},
   "outputs": [
    {
     "name": "stdout",
     "output_type": "stream",
     "text": [
      "지금은 1 일까?\n",
      "지금은 얼마 일까?\n",
      "\n",
      "오늘의 환율은 1300원 입니다.\n",
      "오늘의 환율은 1300원이고 내일의 환율은 1000 입니다.\n",
      "\n",
      "오늘의 환율은 1300원이고 내일의 환율은 1000 입니다.\n",
      "\n",
      "오늘의 환율은 1300원이고 내일의 환율은 1000 입니다.\n"
     ]
    }
   ],
   "source": [
    "# 숫자형과 문자형\n",
    "print(\"지금은 {0} 일까?\".format(1))\n",
    "print(\"지금은 {0} 일까?\".format(\"얼마\"))\n",
    "print()\n",
    "# 변수 사용하기\n",
    "usd1=1300\n",
    "usd2=1000\n",
    "print(\"오늘의 환율은 {0}원 입니다.\".format(usd1))   # 변수 1개\n",
    "print(\"오늘의 환율은 {0}원이고 내일의 환율은 {1} 입니다.\".format(usd1,usd2))    # 변수 2개\n",
    "print()\n",
    "# 이름으로 사용하기(name=value)\n",
    "print(\"오늘의 환율은 {krw1}원이고 내일의 환율은 {krw2} 입니다.\".format(krw1=1300,krw2=1000))\n",
    "print()\n",
    "# 인덱스와 이름 혼용하기(이 때는 인덱스가 먼저 나와야 함)\n",
    "print(\"오늘의 환율은 {0}원이고 내일의 환율은 {krw} 입니다.\".format(1300,krw=1000))\n"
   ]
  },
  {
   "cell_type": "code",
   "execution_count": 37,
   "metadata": {},
   "outputs": [
    {
     "data": {
      "text/plain": [
       "'나의 이름은 홍길동 입니다. 나이는 30세 입니다.'"
      ]
     },
     "execution_count": 37,
     "metadata": {},
     "output_type": "execute_result"
    }
   ],
   "source": [
    "# f 문자열 포맷팅 기본\n",
    "name='홍길동'\n",
    "age=30\n",
    "f'나의 이름은 {name} 입니다. 나이는 {age}세 입니다.'"
   ]
  },
  {
   "cell_type": "code",
   "execution_count": 38,
   "metadata": {},
   "outputs": [
    {
     "data": {
      "text/plain": [
       "'나의 이름은 임사부 입니다. 나이는 31세 입니다.'"
      ]
     },
     "execution_count": 38,
     "metadata": {},
     "output_type": "execute_result"
    }
   ],
   "source": [
    "# f 문자열 표현식 방식\n",
    "name='임사부'\n",
    "age=33\n",
    "f'나의 이름은 {name} 입니다. 나이는 {age-2}세 입니다.'"
   ]
  },
  {
   "cell_type": "code",
   "execution_count": 39,
   "metadata": {},
   "outputs": [
    {
     "data": {
      "text/plain": [
       "'나의 이름은 임꺽정 입니다. 나이는 35세 입니다.'"
      ]
     },
     "execution_count": 39,
     "metadata": {},
     "output_type": "execute_result"
    }
   ],
   "source": [
    "# 딕셔너리 사용\n",
    "dic={'name':'임꺽정', 'age':35}\n",
    "f'나의 이름은 {dic[\"name\"]} 입니다. 나이는 {dic[\"age\"]}세 입니다.'"
   ]
  }
 ],
 "metadata": {
  "kernelspec": {
   "display_name": "Python 3",
   "language": "python",
   "name": "python3"
  },
  "language_info": {
   "codemirror_mode": {
    "name": "ipython",
    "version": 3
   },
   "file_extension": ".py",
   "mimetype": "text/x-python",
   "name": "python",
   "nbconvert_exporter": "python",
   "pygments_lexer": "ipython3",
   "version": "3.12.1"
  }
 },
 "nbformat": 4,
 "nbformat_minor": 2
}
